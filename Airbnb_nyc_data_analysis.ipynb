{
 "cells": [
  {
   "cell_type": "markdown",
   "metadata": {},
   "source": [
    "# Airbnb NYC Listings Data Analysis"
   ]
  },
  {
   "cell_type": "markdown",
   "metadata": {},
   "source": [
    "![Airbnb](New_York_city_.png)"
   ]
  },
  {
   "cell_type": "markdown",
   "metadata": {},
   "source": [
    "<b>Context</b>\n",
    "\n",
    "Analysis of a public Airbnb dataset from Kaggle: https://www.kaggle.com/dgomonov/new-york-city-airbnb-open-data\n",
    "\n",
    "Dataset describes the Airbnb listing activity and metrics in NYC, NY for 2019. It includes all needed information to find out more about hosts, geographical availability, necessary metrics to make predictions and draw conclusions."
   ]
  },
  {
   "cell_type": "code",
   "execution_count": 49,
   "metadata": {},
   "outputs": [],
   "source": [
    "import numpy as np\n",
    "import pandas as pd"
   ]
  },
  {
   "cell_type": "code",
   "execution_count": 50,
   "metadata": {},
   "outputs": [],
   "source": [
    "import matplotlib.pyplot as plt\n",
    "import seaborn as sns\n",
    "import datetime"
   ]
  },
  {
   "cell_type": "code",
   "execution_count": 107,
   "metadata": {},
   "outputs": [],
   "source": [
    "%matplotlib inline"
   ]
  },
  {
   "cell_type": "code",
   "execution_count": 108,
   "metadata": {},
   "outputs": [],
   "source": [
    "nyc_df = pd.read_csv('AB_NYC_2019.csv')"
   ]
  },
  {
   "cell_type": "code",
   "execution_count": 109,
   "metadata": {},
   "outputs": [
    {
     "data": {
      "text/html": [
       "<div>\n",
       "<style scoped>\n",
       "    .dataframe tbody tr th:only-of-type {\n",
       "        vertical-align: middle;\n",
       "    }\n",
       "\n",
       "    .dataframe tbody tr th {\n",
       "        vertical-align: top;\n",
       "    }\n",
       "\n",
       "    .dataframe thead th {\n",
       "        text-align: right;\n",
       "    }\n",
       "</style>\n",
       "<table border=\"1\" class=\"dataframe\">\n",
       "  <thead>\n",
       "    <tr style=\"text-align: right;\">\n",
       "      <th></th>\n",
       "      <th>id</th>\n",
       "      <th>name</th>\n",
       "      <th>host_id</th>\n",
       "      <th>host_name</th>\n",
       "      <th>neighbourhood_group</th>\n",
       "      <th>neighbourhood</th>\n",
       "      <th>latitude</th>\n",
       "      <th>longitude</th>\n",
       "      <th>room_type</th>\n",
       "      <th>price</th>\n",
       "      <th>minimum_nights</th>\n",
       "      <th>number_of_reviews</th>\n",
       "      <th>last_review</th>\n",
       "      <th>reviews_per_month</th>\n",
       "      <th>calculated_host_listings_count</th>\n",
       "      <th>availability_365</th>\n",
       "    </tr>\n",
       "  </thead>\n",
       "  <tbody>\n",
       "    <tr>\n",
       "      <th>0</th>\n",
       "      <td>2539</td>\n",
       "      <td>Clean &amp; quiet apt home by the park</td>\n",
       "      <td>2787</td>\n",
       "      <td>John</td>\n",
       "      <td>Brooklyn</td>\n",
       "      <td>Kensington</td>\n",
       "      <td>40.64749</td>\n",
       "      <td>-73.97237</td>\n",
       "      <td>Private room</td>\n",
       "      <td>149</td>\n",
       "      <td>1</td>\n",
       "      <td>9</td>\n",
       "      <td>2018-10-19</td>\n",
       "      <td>0.21</td>\n",
       "      <td>6</td>\n",
       "      <td>365</td>\n",
       "    </tr>\n",
       "    <tr>\n",
       "      <th>1</th>\n",
       "      <td>2595</td>\n",
       "      <td>Skylit Midtown Castle</td>\n",
       "      <td>2845</td>\n",
       "      <td>Jennifer</td>\n",
       "      <td>Manhattan</td>\n",
       "      <td>Midtown</td>\n",
       "      <td>40.75362</td>\n",
       "      <td>-73.98377</td>\n",
       "      <td>Entire home/apt</td>\n",
       "      <td>225</td>\n",
       "      <td>1</td>\n",
       "      <td>45</td>\n",
       "      <td>2019-05-21</td>\n",
       "      <td>0.38</td>\n",
       "      <td>2</td>\n",
       "      <td>355</td>\n",
       "    </tr>\n",
       "    <tr>\n",
       "      <th>2</th>\n",
       "      <td>3647</td>\n",
       "      <td>THE VILLAGE OF HARLEM....NEW YORK !</td>\n",
       "      <td>4632</td>\n",
       "      <td>Elisabeth</td>\n",
       "      <td>Manhattan</td>\n",
       "      <td>Harlem</td>\n",
       "      <td>40.80902</td>\n",
       "      <td>-73.94190</td>\n",
       "      <td>Private room</td>\n",
       "      <td>150</td>\n",
       "      <td>3</td>\n",
       "      <td>0</td>\n",
       "      <td>NaN</td>\n",
       "      <td>NaN</td>\n",
       "      <td>1</td>\n",
       "      <td>365</td>\n",
       "    </tr>\n",
       "    <tr>\n",
       "      <th>3</th>\n",
       "      <td>3831</td>\n",
       "      <td>Cozy Entire Floor of Brownstone</td>\n",
       "      <td>4869</td>\n",
       "      <td>LisaRoxanne</td>\n",
       "      <td>Brooklyn</td>\n",
       "      <td>Clinton Hill</td>\n",
       "      <td>40.68514</td>\n",
       "      <td>-73.95976</td>\n",
       "      <td>Entire home/apt</td>\n",
       "      <td>89</td>\n",
       "      <td>1</td>\n",
       "      <td>270</td>\n",
       "      <td>2019-07-05</td>\n",
       "      <td>4.64</td>\n",
       "      <td>1</td>\n",
       "      <td>194</td>\n",
       "    </tr>\n",
       "    <tr>\n",
       "      <th>4</th>\n",
       "      <td>5022</td>\n",
       "      <td>Entire Apt: Spacious Studio/Loft by central park</td>\n",
       "      <td>7192</td>\n",
       "      <td>Laura</td>\n",
       "      <td>Manhattan</td>\n",
       "      <td>East Harlem</td>\n",
       "      <td>40.79851</td>\n",
       "      <td>-73.94399</td>\n",
       "      <td>Entire home/apt</td>\n",
       "      <td>80</td>\n",
       "      <td>10</td>\n",
       "      <td>9</td>\n",
       "      <td>2018-11-19</td>\n",
       "      <td>0.10</td>\n",
       "      <td>1</td>\n",
       "      <td>0</td>\n",
       "    </tr>\n",
       "  </tbody>\n",
       "</table>\n",
       "</div>"
      ],
      "text/plain": [
       "     id                                              name  host_id  \\\n",
       "0  2539                Clean & quiet apt home by the park     2787   \n",
       "1  2595                             Skylit Midtown Castle     2845   \n",
       "2  3647               THE VILLAGE OF HARLEM....NEW YORK !     4632   \n",
       "3  3831                   Cozy Entire Floor of Brownstone     4869   \n",
       "4  5022  Entire Apt: Spacious Studio/Loft by central park     7192   \n",
       "\n",
       "     host_name neighbourhood_group neighbourhood  latitude  longitude  \\\n",
       "0         John            Brooklyn    Kensington  40.64749  -73.97237   \n",
       "1     Jennifer           Manhattan       Midtown  40.75362  -73.98377   \n",
       "2    Elisabeth           Manhattan        Harlem  40.80902  -73.94190   \n",
       "3  LisaRoxanne            Brooklyn  Clinton Hill  40.68514  -73.95976   \n",
       "4        Laura           Manhattan   East Harlem  40.79851  -73.94399   \n",
       "\n",
       "         room_type  price  minimum_nights  number_of_reviews last_review  \\\n",
       "0     Private room    149               1                  9  2018-10-19   \n",
       "1  Entire home/apt    225               1                 45  2019-05-21   \n",
       "2     Private room    150               3                  0         NaN   \n",
       "3  Entire home/apt     89               1                270  2019-07-05   \n",
       "4  Entire home/apt     80              10                  9  2018-11-19   \n",
       "\n",
       "   reviews_per_month  calculated_host_listings_count  availability_365  \n",
       "0               0.21                               6               365  \n",
       "1               0.38                               2               355  \n",
       "2                NaN                               1               365  \n",
       "3               4.64                               1               194  \n",
       "4               0.10                               1                 0  "
      ]
     },
     "execution_count": 109,
     "metadata": {},
     "output_type": "execute_result"
    }
   ],
   "source": [
    "nyc_df.head()"
   ]
  },
  {
   "cell_type": "markdown",
   "metadata": {},
   "source": [
    "Based on the raw data provided we can explore the following questions:\n",
    "- Which neighbourhoods are the most/least expensive?\n",
    "- What is the average price for listings in each listing?\n",
    "- Which neighbourhoods are the most/least reviewed?\n",
    "- What types of rooms are most popular?"
   ]
  },
  {
   "cell_type": "markdown",
   "metadata": {},
   "source": [
    "# Data Cleaning and Preparation"
   ]
  },
  {
   "cell_type": "markdown",
   "metadata": {},
   "source": [
    "In this stage the data is checked for accuracy and completeness prior to beginning the analysis. \n",
    "\n",
    "- Removing extraneous data and outliers.\n",
    "- Filling in missing values.\n",
    "- Conforming data to a standardized pattern.\n",
    "- Identifying errors revealed when new variables are created.\n",
    "- Deleting data that cannot be corrected."
   ]
  },
  {
   "cell_type": "markdown",
   "metadata": {},
   "source": [
    "# Checking for missing values"
   ]
  },
  {
   "cell_type": "code",
   "execution_count": 110,
   "metadata": {
    "scrolled": true
   },
   "outputs": [
    {
     "name": "stdout",
     "output_type": "stream",
     "text": [
      "<class 'pandas.core.frame.DataFrame'>\n",
      "RangeIndex: 48895 entries, 0 to 48894\n",
      "Data columns (total 16 columns):\n",
      " #   Column                          Non-Null Count  Dtype  \n",
      "---  ------                          --------------  -----  \n",
      " 0   id                              48895 non-null  int64  \n",
      " 1   name                            48879 non-null  object \n",
      " 2   host_id                         48895 non-null  int64  \n",
      " 3   host_name                       48874 non-null  object \n",
      " 4   neighbourhood_group             48895 non-null  object \n",
      " 5   neighbourhood                   48895 non-null  object \n",
      " 6   latitude                        48895 non-null  float64\n",
      " 7   longitude                       48895 non-null  float64\n",
      " 8   room_type                       48895 non-null  object \n",
      " 9   price                           48895 non-null  int64  \n",
      " 10  minimum_nights                  48895 non-null  int64  \n",
      " 11  number_of_reviews               48895 non-null  int64  \n",
      " 12  last_review                     38843 non-null  object \n",
      " 13  reviews_per_month               38843 non-null  float64\n",
      " 14  calculated_host_listings_count  48895 non-null  int64  \n",
      " 15  availability_365                48895 non-null  int64  \n",
      "dtypes: float64(3), int64(7), object(6)\n",
      "memory usage: 6.0+ MB\n"
     ]
    }
   ],
   "source": [
    "nyc_df.info()"
   ]
  },
  {
   "cell_type": "markdown",
   "metadata": {},
   "source": [
    "The name, host_name, last_review and reviews_per_month columns have missing values.   \n",
    "\n",
    "The missing values originate from a variety of reasons:\n",
    "\n",
    "- The host or person inputting data may have forgotten to enter the value.\n",
    "- Hardware or software error during the collection is affecting accuracy of trip data and so on.\n",
    "\n",
    "Additionally, it is recommended to make the above values a required field for listing data collection purposes to avoid missing data in the future."
   ]
  },
  {
   "cell_type": "markdown",
   "metadata": {},
   "source": [
    "# Identifying and Replacing Missing Values"
   ]
  },
  {
   "cell_type": "code",
   "execution_count": 111,
   "metadata": {},
   "outputs": [
    {
     "data": {
      "text/plain": [
       "False    48879\n",
       "True        16\n",
       "Name: name, dtype: int64"
      ]
     },
     "execution_count": 111,
     "metadata": {},
     "output_type": "execute_result"
    }
   ],
   "source": [
    "##Rows with missing value for last_review\n",
    "\n",
    "nyc_df['name'].isnull().value_counts() "
   ]
  },
  {
   "cell_type": "code",
   "execution_count": 112,
   "metadata": {},
   "outputs": [
    {
     "data": {
      "text/plain": [
       "False    48874\n",
       "True        21\n",
       "Name: host_name, dtype: int64"
      ]
     },
     "execution_count": 112,
     "metadata": {},
     "output_type": "execute_result"
    }
   ],
   "source": [
    "##Rows with missing value for last_review\n",
    "\n",
    "nyc_df['host_name'].isnull().value_counts() "
   ]
  },
  {
   "cell_type": "code",
   "execution_count": 113,
   "metadata": {},
   "outputs": [
    {
     "data": {
      "text/plain": [
       "False    38843\n",
       "True     10052\n",
       "Name: last_review, dtype: int64"
      ]
     },
     "execution_count": 113,
     "metadata": {},
     "output_type": "execute_result"
    }
   ],
   "source": [
    "##Rows with missing value for last_review\n",
    "\n",
    "nyc_df['last_review'].isnull().value_counts() "
   ]
  },
  {
   "cell_type": "code",
   "execution_count": 114,
   "metadata": {},
   "outputs": [
    {
     "data": {
      "text/plain": [
       "False    38843\n",
       "True     10052\n",
       "Name: reviews_per_month, dtype: int64"
      ]
     },
     "execution_count": 114,
     "metadata": {},
     "output_type": "execute_result"
    }
   ],
   "source": [
    "##Rows with missing value for reviews_per_month\n",
    "\n",
    "nyc_df['reviews_per_month'].isnull().value_counts() "
   ]
  },
  {
   "cell_type": "markdown",
   "metadata": {},
   "source": [
    "The majority of the missing data is from the \"last_review\" and \"reviews_per_month\" columns. Since the other two columns only have relatively few missing values we can just delete the associated rows. "
   ]
  },
  {
   "cell_type": "markdown",
   "metadata": {},
   "source": [
    "### Replacing Missing Values"
   ]
  },
  {
   "cell_type": "markdown",
   "metadata": {},
   "source": [
    "The reviews_per_month and last_review values are connected to each other. The missing values represent the fact that a review has not been left for that listing. \n",
    "\n",
    "- The reviews_per_month will be replaced with a score of 0.0.\n",
    "- The last_review will be set to \"2019-12-31\" to indicate there has been no review as of the last day of the year."
   ]
  },
  {
   "cell_type": "code",
   "execution_count": 115,
   "metadata": {},
   "outputs": [],
   "source": [
    "#Replacing missing values\n",
    "nyc_df['reviews_per_month'] = nyc_df['reviews_per_month'].fillna(0.0)"
   ]
  },
  {
   "cell_type": "code",
   "execution_count": 116,
   "metadata": {},
   "outputs": [
    {
     "data": {
      "text/plain": [
       "False    48895\n",
       "Name: reviews_per_month, dtype: int64"
      ]
     },
     "execution_count": 116,
     "metadata": {},
     "output_type": "execute_result"
    }
   ],
   "source": [
    "## We have replaced all the missing reviews_per_month with a 0.0\n",
    "\n",
    "nyc_df['reviews_per_month'].isnull().value_counts() "
   ]
  },
  {
   "cell_type": "code",
   "execution_count": 117,
   "metadata": {},
   "outputs": [],
   "source": [
    "#Replacing missing values\n",
    "nyc_df['last_review'] = nyc_df['last_review'].fillna(\"2019-12-31\")"
   ]
  },
  {
   "cell_type": "code",
   "execution_count": 118,
   "metadata": {},
   "outputs": [
    {
     "data": {
      "text/plain": [
       "False    48895\n",
       "Name: last_review, dtype: int64"
      ]
     },
     "execution_count": 118,
     "metadata": {},
     "output_type": "execute_result"
    }
   ],
   "source": [
    "##Rows with missing value for last_review\n",
    "\n",
    "nyc_df['last_review'].isnull().value_counts() "
   ]
  },
  {
   "cell_type": "markdown",
   "metadata": {},
   "source": [
    "### Deleting Missing Values"
   ]
  },
  {
   "cell_type": "code",
   "execution_count": 119,
   "metadata": {},
   "outputs": [],
   "source": [
    "#Deleting rows with missing name values\n",
    "nyc_df.dropna(subset=['name'], inplace=True)"
   ]
  },
  {
   "cell_type": "code",
   "execution_count": 120,
   "metadata": {},
   "outputs": [],
   "source": [
    "#Deleting rows with missing 'host_name' values\n",
    "nyc_df.dropna(subset=['host_name'], inplace=True)"
   ]
  },
  {
   "cell_type": "code",
   "execution_count": 121,
   "metadata": {},
   "outputs": [
    {
     "name": "stdout",
     "output_type": "stream",
     "text": [
      "<class 'pandas.core.frame.DataFrame'>\n",
      "Int64Index: 48858 entries, 0 to 48894\n",
      "Data columns (total 16 columns):\n",
      " #   Column                          Non-Null Count  Dtype  \n",
      "---  ------                          --------------  -----  \n",
      " 0   id                              48858 non-null  int64  \n",
      " 1   name                            48858 non-null  object \n",
      " 2   host_id                         48858 non-null  int64  \n",
      " 3   host_name                       48858 non-null  object \n",
      " 4   neighbourhood_group             48858 non-null  object \n",
      " 5   neighbourhood                   48858 non-null  object \n",
      " 6   latitude                        48858 non-null  float64\n",
      " 7   longitude                       48858 non-null  float64\n",
      " 8   room_type                       48858 non-null  object \n",
      " 9   price                           48858 non-null  int64  \n",
      " 10  minimum_nights                  48858 non-null  int64  \n",
      " 11  number_of_reviews               48858 non-null  int64  \n",
      " 12  last_review                     48858 non-null  object \n",
      " 13  reviews_per_month               48858 non-null  float64\n",
      " 14  calculated_host_listings_count  48858 non-null  int64  \n",
      " 15  availability_365                48858 non-null  int64  \n",
      "dtypes: float64(3), int64(7), object(6)\n",
      "memory usage: 6.3+ MB\n"
     ]
    }
   ],
   "source": [
    "nyc_df.info()"
   ]
  },
  {
   "cell_type": "markdown",
   "metadata": {},
   "source": [
    "All missing values have been dealt with."
   ]
  },
  {
   "cell_type": "markdown",
   "metadata": {},
   "source": [
    "## Correcting formatting issues in data"
   ]
  },
  {
   "cell_type": "code",
   "execution_count": 122,
   "metadata": {},
   "outputs": [],
   "source": [
    "#Converting last_review to datetime values \n",
    "nyc_df['last_review'] = pd.to_datetime(nyc_df['last_review'])"
   ]
  },
  {
   "cell_type": "code",
   "execution_count": 123,
   "metadata": {},
   "outputs": [],
   "source": [
    "#Converting host_id to string\n",
    "nyc_df['host_id'] = nyc_df['host_id'].astype(str)"
   ]
  },
  {
   "cell_type": "markdown",
   "metadata": {},
   "source": [
    "## Creating new features"
   ]
  },
  {
   "cell_type": "markdown",
   "metadata": {},
   "source": [
    "In this stage we are adding new features that will provide more insight into the data."
   ]
  },
  {
   "cell_type": "markdown",
   "metadata": {},
   "source": [
    "### Month"
   ]
  },
  {
   "cell_type": "code",
   "execution_count": 124,
   "metadata": {},
   "outputs": [],
   "source": [
    "#Identifying which month the review was left\n",
    "\n",
    "nyc_df['month'] = nyc_df['last_review'].apply(lambda time: time.month)"
   ]
  },
  {
   "cell_type": "code",
   "execution_count": 125,
   "metadata": {},
   "outputs": [],
   "source": [
    "#We needs to convert the values in the Month column from numbers to names of Months\n",
    "\n",
    "dmap = {1:'January',2:'February',3:'March',4:'April',5:'May',6:'June',7:'July',8:'August',9:'September',10:'October',11:'November',12:'December'}"
   ]
  },
  {
   "cell_type": "code",
   "execution_count": 126,
   "metadata": {},
   "outputs": [],
   "source": [
    "#Mapping our new dictionary to the Month column in the Dataframe\n",
    "\n",
    "nyc_df['month'] = nyc_df['month'].map(dmap)"
   ]
  },
  {
   "cell_type": "markdown",
   "metadata": {},
   "source": [
    "### Listing Coordinates"
   ]
  },
  {
   "cell_type": "markdown",
   "metadata": {},
   "source": [
    "<b>'listing_coordinate'</b> is the latitude and longitude pair for each listing that can be used to calculate distances to other points."
   ]
  },
  {
   "cell_type": "code",
   "execution_count": 127,
   "metadata": {},
   "outputs": [],
   "source": [
    "#Creating a dataframe for latitude and longitude of each listing\n",
    "locations_df = nyc_df[[\"latitude\",\"longitude\"]]\n",
    "\n",
    "#Creating a list of tuples\n",
    "locations_df = locations_df.to_records(index=False)\n",
    "\n",
    "#There is now a column 'locations' with the latitude and longitude pair for each listing. Example, \n",
    "nyc_df['listing_coordinates'] = list(locations_df) "
   ]
  },
  {
   "cell_type": "markdown",
   "metadata": {},
   "source": [
    "### Major Attactions and Major Attraction Coordinates"
   ]
  },
  {
   "cell_type": "markdown",
   "metadata": {},
   "source": [
    "The neighbourhood groups represent the boroughs of New York City. As people use Airbnb for short visits primarily it is useful to know how far  listings are from popular locations in each borough like Central Park in Manhattan."
   ]
  },
  {
   "cell_type": "code",
   "execution_count": 128,
   "metadata": {},
   "outputs": [
    {
     "data": {
      "text/plain": [
       "array(['Brooklyn', 'Manhattan', 'Queens', 'Staten Island', 'Bronx'],\n",
       "      dtype=object)"
      ]
     },
     "execution_count": 128,
     "metadata": {},
     "output_type": "execute_result"
    }
   ],
   "source": [
    "#Identifying unique neighbourhoods groups (boroughs)\n",
    "nyc_df['neighbourhood_group'].unique()"
   ]
  },
  {
   "cell_type": "markdown",
   "metadata": {},
   "source": [
    "Major Attraction in Each Neighbourhoods Group (Borough)\n",
    "- Brooklyn: Brooklyn Bridge\n",
    "- Manhattan: Central Park\n",
    "- Queens: Citi Field  \n",
    "- Staten Island: St. George's Ferry Terminal (Staten Island Ferry)\n",
    "- Bronx: Bronx Zoo"
   ]
  },
  {
   "cell_type": "code",
   "execution_count": 129,
   "metadata": {},
   "outputs": [],
   "source": [
    "#Coordinates of Major Attractions\n",
    "\n",
    "brooklyn_bridge = (40.706001,-73.997002)\n",
    "central_park = (40.769361,-73.977655)\n",
    "citi_field = (40.75416365,-73.84082997)\n",
    "staten_island_ferry = (40.643333,-74.074167) \n",
    "bronx_zoo = (40.852905,-73.872971)\n",
    "\n",
    "#Creating a dictionary with the values in the neighbourhood group column to the names of the related attraction\n",
    "dmap_locations = {'Brooklyn':\"Brooklyn Bridge\", 'Manhattan':\"Central Park\", 'Queens':\"Citi Field\", 'Staten Island':\"St. Georges Ferry Terminal\", 'Bronx':\"Bronx Zoo\"}\n",
    "\n",
    "#Creating a dictionary with the values in the neighbourhood group column to the coordinates of the related attraction\n",
    "dmap_coordinates = {'Brooklyn':brooklyn_bridge, 'Manhattan':central_park, 'Queens':citi_field, 'Staten Island':staten_island_ferry, 'Bronx':bronx_zoo}\n",
    "\n",
    "#Mapping our new dictionary to the neighbourhood_group column in the Dataframe\n",
    "nyc_df['major_attraction_location'] = nyc_df['neighbourhood_group'].map(dmap_locations)\n",
    "\n",
    "#Mapping our new dictionary to the neighbourhood_group column in the Dataframe\n",
    "nyc_df['major_attraction_coordinates'] = nyc_df['neighbourhood_group'].map(dmap_coordinates)\n"
   ]
  },
  {
   "cell_type": "markdown",
   "metadata": {},
   "source": [
    "### Distance to Major Attactions"
   ]
  },
  {
   "cell_type": "code",
   "execution_count": 130,
   "metadata": {},
   "outputs": [],
   "source": [
    "import haversine\n",
    "from haversine import haversine, Unit\n",
    "\n",
    "#haversine can calculate the distance (in various units) between two points on Earth using their latitude and longitude.\n",
    "\n",
    "\n",
    "# We use the lambda function to apply haversine to calculate the distance to central park from each listing in Miles\n",
    "# The default units for haversine are Km but we have set it to Miles here\n",
    "# x.listing_coordinates and x.major_attraction_coordinates represent the coordinates of the listing location and the major attraction\n",
    "nyc_df['distance_to_major_attractions'] = nyc_df.apply(lambda x: haversine(x.listing_coordinates,x.major_attraction_coordinates,unit=Unit.MILES), axis = 1)\n",
    "\n",
    "#Rounding the values for readability\n",
    "nyc_df['distance_to_major_attractions'] = nyc_df['distance_to_major_attractions'].round(2)\n"
   ]
  },
  {
   "cell_type": "markdown",
   "metadata": {},
   "source": [
    "# Data Analysis and Visualization"
   ]
  },
  {
   "cell_type": "markdown",
   "metadata": {},
   "source": [
    "In this stage, we will examine the data to identify any patterns, trends and relationships between the variables. It will help us analyze the data and extract insights that can be used to make decisions.\n",
    "\n",
    "Data Visualization will give us a clear idea of what the data means by giving it visual context."
   ]
  },
  {
   "cell_type": "markdown",
   "metadata": {},
   "source": [
    "## Checking for any correlation in the data"
   ]
  },
  {
   "cell_type": "code",
   "execution_count": 131,
   "metadata": {},
   "outputs": [
    {
     "data": {
      "text/plain": [
       "<AxesSubplot:>"
      ]
     },
     "execution_count": 131,
     "metadata": {},
     "output_type": "execute_result"
    },
    {
     "data": {
      "image/png": "[encoded data removed]",
      "text/plain": [
       "<Figure size 432x288 with 2 Axes>"
      ]
     },
     "metadata": {
      "needs_background": "light"
     },
     "output_type": "display_data"
    }
   ],
   "source": [
    "sns.heatmap(nyc_df.corr())"
   ]
  },
  {
   "cell_type": "markdown",
   "metadata": {},
   "source": [
    "There does not appear to be any significant correlation between variables"
   ]
  },
  {
   "cell_type": "markdown",
   "metadata": {},
   "source": [
    "## Host ID"
   ]
  },
  {
   "cell_type": "code",
   "execution_count": 132,
   "metadata": {},
   "outputs": [
    {
     "data": {
      "text/plain": [
       "count         48858\n",
       "unique        37425\n",
       "top       219517861\n",
       "freq            327\n",
       "Name: host_id, dtype: object"
      ]
     },
     "execution_count": 132,
     "metadata": {},
     "output_type": "execute_result"
    }
   ],
   "source": [
    "nyc_df['host_id'].describe()"
   ]
  },
  {
   "cell_type": "markdown",
   "metadata": {},
   "source": [
    "There are <b>37425</b> unique hosts with host <b>219517861</b> having the most listings (327)."
   ]
  },
  {
   "cell_type": "code",
   "execution_count": 133,
   "metadata": {},
   "outputs": [
    {
     "data": {
      "text/html": [
       "<div>\n",
       "<style scoped>\n",
       "    .dataframe tbody tr th:only-of-type {\n",
       "        vertical-align: middle;\n",
       "    }\n",
       "\n",
       "    .dataframe tbody tr th {\n",
       "        vertical-align: top;\n",
       "    }\n",
       "\n",
       "    .dataframe thead th {\n",
       "        text-align: right;\n",
       "    }\n",
       "</style>\n",
       "<table border=\"1\" class=\"dataframe\">\n",
       "  <thead>\n",
       "    <tr style=\"text-align: right;\">\n",
       "      <th></th>\n",
       "      <th>id</th>\n",
       "      <th>name</th>\n",
       "      <th>host_id</th>\n",
       "      <th>host_name</th>\n",
       "      <th>neighbourhood_group</th>\n",
       "      <th>neighbourhood</th>\n",
       "      <th>latitude</th>\n",
       "      <th>longitude</th>\n",
       "      <th>room_type</th>\n",
       "      <th>price</th>\n",
       "      <th>...</th>\n",
       "      <th>number_of_reviews</th>\n",
       "      <th>last_review</th>\n",
       "      <th>reviews_per_month</th>\n",
       "      <th>calculated_host_listings_count</th>\n",
       "      <th>availability_365</th>\n",
       "      <th>month</th>\n",
       "      <th>listing_coordinates</th>\n",
       "      <th>major_attraction_location</th>\n",
       "      <th>major_attraction_coordinates</th>\n",
       "      <th>distance_to_major_attractions</th>\n",
       "    </tr>\n",
       "  </thead>\n",
       "  <tbody>\n",
       "    <tr>\n",
       "      <th>38293</th>\n",
       "      <td>30181691</td>\n",
       "      <td>Sonder | 180 Water | Incredible 2BR + Rooftop</td>\n",
       "      <td>219517861</td>\n",
       "      <td>Sonder (NYC)</td>\n",
       "      <td>Manhattan</td>\n",
       "      <td>Financial District</td>\n",
       "      <td>40.70637</td>\n",
       "      <td>-74.00645</td>\n",
       "      <td>Entire home/apt</td>\n",
       "      <td>302</td>\n",
       "      <td>...</td>\n",
       "      <td>0</td>\n",
       "      <td>2019-12-31</td>\n",
       "      <td>0.00</td>\n",
       "      <td>327</td>\n",
       "      <td>309</td>\n",
       "      <td>December</td>\n",
       "      <td>[40.70637, -74.00645]</td>\n",
       "      <td>Central Park</td>\n",
       "      <td>(40.769361, -73.977655)</td>\n",
       "      <td>4.61</td>\n",
       "    </tr>\n",
       "    <tr>\n",
       "      <th>38294</th>\n",
       "      <td>30181945</td>\n",
       "      <td>Sonder | 180 Water | Premier 1BR + Rooftop</td>\n",
       "      <td>219517861</td>\n",
       "      <td>Sonder (NYC)</td>\n",
       "      <td>Manhattan</td>\n",
       "      <td>Financial District</td>\n",
       "      <td>40.70771</td>\n",
       "      <td>-74.00641</td>\n",
       "      <td>Entire home/apt</td>\n",
       "      <td>229</td>\n",
       "      <td>...</td>\n",
       "      <td>1</td>\n",
       "      <td>2019-05-29</td>\n",
       "      <td>0.73</td>\n",
       "      <td>327</td>\n",
       "      <td>219</td>\n",
       "      <td>May</td>\n",
       "      <td>[40.70771, -74.00641]</td>\n",
       "      <td>Central Park</td>\n",
       "      <td>(40.769361, -73.977655)</td>\n",
       "      <td>4.52</td>\n",
       "    </tr>\n",
       "    <tr>\n",
       "      <th>38588</th>\n",
       "      <td>30347708</td>\n",
       "      <td>Sonder | 180 Water | Charming 1BR + Rooftop</td>\n",
       "      <td>219517861</td>\n",
       "      <td>Sonder (NYC)</td>\n",
       "      <td>Manhattan</td>\n",
       "      <td>Financial District</td>\n",
       "      <td>40.70743</td>\n",
       "      <td>-74.00443</td>\n",
       "      <td>Entire home/apt</td>\n",
       "      <td>232</td>\n",
       "      <td>...</td>\n",
       "      <td>1</td>\n",
       "      <td>2019-05-21</td>\n",
       "      <td>0.60</td>\n",
       "      <td>327</td>\n",
       "      <td>159</td>\n",
       "      <td>May</td>\n",
       "      <td>[40.70743, -74.00443]</td>\n",
       "      <td>Central Park</td>\n",
       "      <td>(40.769361, -73.977655)</td>\n",
       "      <td>4.50</td>\n",
       "    </tr>\n",
       "    <tr>\n",
       "      <th>39769</th>\n",
       "      <td>30937590</td>\n",
       "      <td>Sonder | The Nash | Artsy 1BR + Rooftop</td>\n",
       "      <td>219517861</td>\n",
       "      <td>Sonder (NYC)</td>\n",
       "      <td>Manhattan</td>\n",
       "      <td>Murray Hill</td>\n",
       "      <td>40.74792</td>\n",
       "      <td>-73.97614</td>\n",
       "      <td>Entire home/apt</td>\n",
       "      <td>262</td>\n",
       "      <td>...</td>\n",
       "      <td>8</td>\n",
       "      <td>2019-06-09</td>\n",
       "      <td>1.86</td>\n",
       "      <td>327</td>\n",
       "      <td>91</td>\n",
       "      <td>June</td>\n",
       "      <td>[40.74792, -73.97614]</td>\n",
       "      <td>Central Park</td>\n",
       "      <td>(40.769361, -73.977655)</td>\n",
       "      <td>1.48</td>\n",
       "    </tr>\n",
       "    <tr>\n",
       "      <th>39770</th>\n",
       "      <td>30937591</td>\n",
       "      <td>Sonder | The Nash | Lovely Studio + Rooftop</td>\n",
       "      <td>219517861</td>\n",
       "      <td>Sonder (NYC)</td>\n",
       "      <td>Manhattan</td>\n",
       "      <td>Murray Hill</td>\n",
       "      <td>40.74771</td>\n",
       "      <td>-73.97528</td>\n",
       "      <td>Entire home/apt</td>\n",
       "      <td>255</td>\n",
       "      <td>...</td>\n",
       "      <td>14</td>\n",
       "      <td>2019-06-10</td>\n",
       "      <td>2.59</td>\n",
       "      <td>327</td>\n",
       "      <td>81</td>\n",
       "      <td>June</td>\n",
       "      <td>[40.74771, -73.97528]</td>\n",
       "      <td>Central Park</td>\n",
       "      <td>(40.769361, -73.977655)</td>\n",
       "      <td>1.50</td>\n",
       "    </tr>\n",
       "  </tbody>\n",
       "</table>\n",
       "<p>5 rows × 21 columns</p>\n",
       "</div>"
      ],
      "text/plain": [
       "             id                                           name    host_id  \\\n",
       "38293  30181691  Sonder | 180 Water | Incredible 2BR + Rooftop  219517861   \n",
       "38294  30181945     Sonder | 180 Water | Premier 1BR + Rooftop  219517861   \n",
       "38588  30347708    Sonder | 180 Water | Charming 1BR + Rooftop  219517861   \n",
       "39769  30937590        Sonder | The Nash | Artsy 1BR + Rooftop  219517861   \n",
       "39770  30937591    Sonder | The Nash | Lovely Studio + Rooftop  219517861   \n",
       "\n",
       "          host_name neighbourhood_group       neighbourhood  latitude  \\\n",
       "38293  Sonder (NYC)           Manhattan  Financial District  40.70637   \n",
       "38294  Sonder (NYC)           Manhattan  Financial District  40.70771   \n",
       "38588  Sonder (NYC)           Manhattan  Financial District  40.70743   \n",
       "39769  Sonder (NYC)           Manhattan         Murray Hill  40.74792   \n",
       "39770  Sonder (NYC)           Manhattan         Murray Hill  40.74771   \n",
       "\n",
       "       longitude        room_type  price  ...  number_of_reviews  last_review  \\\n",
       "38293  -74.00645  Entire home/apt    302  ...                  0   2019-12-31   \n",
       "38294  -74.00641  Entire home/apt    229  ...                  1   2019-05-29   \n",
       "38588  -74.00443  Entire home/apt    232  ...                  1   2019-05-21   \n",
       "39769  -73.97614  Entire home/apt    262  ...                  8   2019-06-09   \n",
       "39770  -73.97528  Entire home/apt    255  ...                 14   2019-06-10   \n",
       "\n",
       "      reviews_per_month  calculated_host_listings_count  availability_365  \\\n",
       "38293              0.00                             327               309   \n",
       "38294              0.73                             327               219   \n",
       "38588              0.60                             327               159   \n",
       "39769              1.86                             327                91   \n",
       "39770              2.59                             327                81   \n",
       "\n",
       "          month    listing_coordinates major_attraction_location  \\\n",
       "38293  December  [40.70637, -74.00645]              Central Park   \n",
       "38294       May  [40.70771, -74.00641]              Central Park   \n",
       "38588       May  [40.70743, -74.00443]              Central Park   \n",
       "39769      June  [40.74792, -73.97614]              Central Park   \n",
       "39770      June  [40.74771, -73.97528]              Central Park   \n",
       "\n",
       "      major_attraction_coordinates distance_to_major_attractions  \n",
       "38293      (40.769361, -73.977655)                          4.61  \n",
       "38294      (40.769361, -73.977655)                          4.52  \n",
       "38588      (40.769361, -73.977655)                          4.50  \n",
       "39769      (40.769361, -73.977655)                          1.48  \n",
       "39770      (40.769361, -73.977655)                          1.50  \n",
       "\n",
       "[5 rows x 21 columns]"
      ]
     },
     "execution_count": 133,
     "metadata": {},
     "output_type": "execute_result"
    }
   ],
   "source": [
    "nyc_df[nyc_df['host_id'] == '219517861'].head()"
   ]
  },
  {
   "cell_type": "markdown",
   "metadata": {},
   "source": [
    "The top host <i>(219517861)</i>  is <b>Sonder (NYC)</b>"
   ]
  },
  {
   "cell_type": "markdown",
   "metadata": {},
   "source": [
    "## Neighbourhood "
   ]
  },
  {
   "cell_type": "code",
   "execution_count": 134,
   "metadata": {
    "scrolled": true
   },
   "outputs": [
    {
     "data": {
      "text/plain": [
       "count            48858\n",
       "unique             221\n",
       "top       Williamsburg\n",
       "freq              3917\n",
       "Name: neighbourhood, dtype: object"
      ]
     },
     "execution_count": 134,
     "metadata": {},
     "output_type": "execute_result"
    }
   ],
   "source": [
    "nyc_df['neighbourhood'].describe()"
   ]
  },
  {
   "cell_type": "markdown",
   "metadata": {},
   "source": [
    "There are <b>221</b> neighbourhoods with <b>Williamsburg</b> having the most listings (3917). "
   ]
  },
  {
   "cell_type": "markdown",
   "metadata": {},
   "source": [
    "### Top 10 Neighbourhoods with the Most Listings"
   ]
  },
  {
   "cell_type": "code",
   "execution_count": 135,
   "metadata": {
    "scrolled": false
   },
   "outputs": [
    {
     "data": {
      "text/plain": [
       "Williamsburg          3917\n",
       "Bedford-Stuyvesant    3713\n",
       "Harlem                2655\n",
       "Bushwick              2462\n",
       "Upper West Side       1969\n",
       "Hell's Kitchen        1954\n",
       "East Village          1852\n",
       "Upper East Side       1797\n",
       "Crown Heights         1563\n",
       "Midtown               1545\n",
       "Name: neighbourhood, dtype: int64"
      ]
     },
     "execution_count": 135,
     "metadata": {},
     "output_type": "execute_result"
    }
   ],
   "source": [
    "nyc_df['neighbourhood'].value_counts().head(10)"
   ]
  },
  {
   "cell_type": "code",
   "execution_count": 136,
   "metadata": {},
   "outputs": [
    {
     "data": {
      "text/plain": [
       "23427"
      ]
     },
     "execution_count": 136,
     "metadata": {},
     "output_type": "execute_result"
    }
   ],
   "source": [
    "#Calulating the total number of listings that the top 10 neighbourhoods account for\n",
    "nyc_df['neighbourhood'].value_counts().head(10).sum()"
   ]
  },
  {
   "cell_type": "code",
   "execution_count": 137,
   "metadata": {},
   "outputs": [
    {
     "data": {
      "text/plain": [
       "47.95"
      ]
     },
     "execution_count": 137,
     "metadata": {},
     "output_type": "execute_result"
    }
   ],
   "source": [
    "round((23427/48858)*100,2)"
   ]
  },
  {
   "cell_type": "markdown",
   "metadata": {},
   "source": [
    "The top 10 neighbourhoods represent about <b>47.95%</b> of all listings."
   ]
  },
  {
   "cell_type": "markdown",
   "metadata": {},
   "source": [
    "## Neighbourhood Groups"
   ]
  },
  {
   "cell_type": "code",
   "execution_count": 138,
   "metadata": {},
   "outputs": [
    {
     "data": {
      "text/plain": [
       "count         48858\n",
       "unique            5\n",
       "top       Manhattan\n",
       "freq          21643\n",
       "Name: neighbourhood_group, dtype: object"
      ]
     },
     "execution_count": 138,
     "metadata": {},
     "output_type": "execute_result"
    }
   ],
   "source": [
    "#Identifying unique neighbourhoods\n",
    "nyc_df['neighbourhood_group'].describe()"
   ]
  },
  {
   "cell_type": "markdown",
   "metadata": {},
   "source": [
    "There are <b>5</b> neighbourhood groups with <b>Manhattan</b> having the most listings (21643). "
   ]
  },
  {
   "cell_type": "markdown",
   "metadata": {},
   "source": [
    "### Number of Listings in Each Neighbourhood Group"
   ]
  },
  {
   "cell_type": "code",
   "execution_count": 139,
   "metadata": {},
   "outputs": [
    {
     "data": {
      "text/plain": [
       "Manhattan        21643\n",
       "Brooklyn         20089\n",
       "Queens            5664\n",
       "Bronx             1089\n",
       "Staten Island      373\n",
       "Name: neighbourhood_group, dtype: int64"
      ]
     },
     "execution_count": 139,
     "metadata": {},
     "output_type": "execute_result"
    }
   ],
   "source": [
    "nyc_df['neighbourhood_group'].value_counts()"
   ]
  },
  {
   "cell_type": "markdown",
   "metadata": {},
   "source": [
    "## Room Type"
   ]
  },
  {
   "cell_type": "code",
   "execution_count": 140,
   "metadata": {},
   "outputs": [
    {
     "data": {
      "text/plain": [
       "Entire home/apt    25393\n",
       "Private room       22306\n",
       "Shared room         1159\n",
       "Name: room_type, dtype: int64"
      ]
     },
     "execution_count": 140,
     "metadata": {},
     "output_type": "execute_result"
    }
   ],
   "source": [
    "#Identifying number of rooms of each time\n",
    "nyc_df['room_type'].value_counts()"
   ]
  },
  {
   "cell_type": "code",
   "execution_count": 141,
   "metadata": {},
   "outputs": [
    {
     "data": {
      "text/plain": [
       "Text(0.5, 1.0, 'Number of Rooms of Each Type')"
      ]
     },
     "execution_count": 141,
     "metadata": {},
     "output_type": "execute_result"
    },
    {
     "data": {
      "image/png": "[encoded data removed]",
      "text/plain": [
       "<Figure size 432x288 with 1 Axes>"
      ]
     },
     "metadata": {
      "needs_background": "light"
     },
     "output_type": "display_data"
    }
   ],
   "source": [
    "sns.countplot(x='room_type',data=nyc_df,palette='viridis')\n",
    "plt.title(\"Number of Rooms of Each Type\",fontsize=20)"
   ]
  },
  {
   "cell_type": "markdown",
   "metadata": {},
   "source": [
    "The majority of the listings are Entire home/apts or Private rooms."
   ]
  },
  {
   "cell_type": "markdown",
   "metadata": {},
   "source": [
    "## Month"
   ]
  },
  {
   "cell_type": "code",
   "execution_count": 142,
   "metadata": {},
   "outputs": [
    {
     "data": {
      "text/plain": [
       "Text(0.5, 1.0, 'Airbnb Listings Each Month')"
      ]
     },
     "execution_count": 142,
     "metadata": {},
     "output_type": "execute_result"
    },
    {
     "data": {
      "image/png": "[encoded data removed]",
      "text/plain": [
       "<Figure size 864x288 with 1 Axes>"
      ]
     },
     "metadata": {
      "needs_background": "light"
     },
     "output_type": "display_data"
    }
   ],
   "source": [
    "fig_dims = (12, 4)\n",
    "fig, ax = plt.subplots(figsize=fig_dims)\n",
    "\n",
    "# We use order = nyc_df['Month'].value_counts().index to help us sort the count plot by the value counts\n",
    "\n",
    "sns.countplot(x='month',data=nyc_df,order = nyc_df['month'].value_counts().index,palette='viridis')\n",
    "plt.title(\"Airbnb Listings Each Month\",fontsize=20)"
   ]
  },
  {
   "cell_type": "markdown",
   "metadata": {},
   "source": [
    "- The majority of reviews are left in the month of <b>June</b> which indicates that the majority of customers used a rental in June. \n",
    "- Meanwhile, the least reviews are left in <b>February</b>, which indicates that the fewest of customers used a rental in February."
   ]
  },
  {
   "cell_type": "markdown",
   "metadata": {},
   "source": [
    "## Availability"
   ]
  },
  {
   "cell_type": "code",
   "execution_count": 143,
   "metadata": {
    "scrolled": true
   },
   "outputs": [
    {
     "data": {
      "text/plain": [
       "112.80142453641164"
      ]
     },
     "execution_count": 143,
     "metadata": {},
     "output_type": "execute_result"
    }
   ],
   "source": [
    "nyc_df['availability_365'].mean()"
   ]
  },
  {
   "cell_type": "markdown",
   "metadata": {},
   "source": [
    "On average, any given listing is available <b>113 days</b> in a year."
   ]
  },
  {
   "cell_type": "code",
   "execution_count": 144,
   "metadata": {},
   "outputs": [
    {
     "data": {
      "text/html": [
       "<div>\n",
       "<style scoped>\n",
       "    .dataframe tbody tr th:only-of-type {\n",
       "        vertical-align: middle;\n",
       "    }\n",
       "\n",
       "    .dataframe tbody tr th {\n",
       "        vertical-align: top;\n",
       "    }\n",
       "\n",
       "    .dataframe thead th {\n",
       "        text-align: right;\n",
       "    }\n",
       "</style>\n",
       "<table border=\"1\" class=\"dataframe\">\n",
       "  <thead>\n",
       "    <tr style=\"text-align: right;\">\n",
       "      <th></th>\n",
       "      <th>average_availability</th>\n",
       "      <th>average_price</th>\n",
       "      <th>average_number_of_reviews_per_listing</th>\n",
       "      <th>total_number_of_reviews</th>\n",
       "    </tr>\n",
       "    <tr>\n",
       "      <th>neighbourhood_group</th>\n",
       "      <th></th>\n",
       "      <th></th>\n",
       "      <th></th>\n",
       "      <th></th>\n",
       "    </tr>\n",
       "  </thead>\n",
       "  <tbody>\n",
       "    <tr>\n",
       "      <th>Brooklyn</th>\n",
       "      <td>100.24</td>\n",
       "      <td>124.0</td>\n",
       "      <td>24.0</td>\n",
       "      <td>486174</td>\n",
       "    </tr>\n",
       "    <tr>\n",
       "      <th>Manhattan</th>\n",
       "      <td>112.01</td>\n",
       "      <td>197.0</td>\n",
       "      <td>21.0</td>\n",
       "      <td>454126</td>\n",
       "    </tr>\n",
       "    <tr>\n",
       "      <th>Queens</th>\n",
       "      <td>144.49</td>\n",
       "      <td>100.0</td>\n",
       "      <td>28.0</td>\n",
       "      <td>156902</td>\n",
       "    </tr>\n",
       "    <tr>\n",
       "      <th>Bronx</th>\n",
       "      <td>165.70</td>\n",
       "      <td>87.0</td>\n",
       "      <td>26.0</td>\n",
       "      <td>28334</td>\n",
       "    </tr>\n",
       "    <tr>\n",
       "      <th>Staten Island</th>\n",
       "      <td>199.68</td>\n",
       "      <td>115.0</td>\n",
       "      <td>31.0</td>\n",
       "      <td>11541</td>\n",
       "    </tr>\n",
       "  </tbody>\n",
       "</table>\n",
       "</div>"
      ],
      "text/plain": [
       "                     average_availability  average_price  \\\n",
       "neighbourhood_group                                        \n",
       "Brooklyn                           100.24          124.0   \n",
       "Manhattan                          112.01          197.0   \n",
       "Queens                             144.49          100.0   \n",
       "Bronx                              165.70           87.0   \n",
       "Staten Island                      199.68          115.0   \n",
       "\n",
       "                     average_number_of_reviews_per_listing  \\\n",
       "neighbourhood_group                                          \n",
       "Brooklyn                                              24.0   \n",
       "Manhattan                                             21.0   \n",
       "Queens                                                28.0   \n",
       "Bronx                                                 26.0   \n",
       "Staten Island                                         31.0   \n",
       "\n",
       "                     total_number_of_reviews  \n",
       "neighbourhood_group                           \n",
       "Brooklyn                              486174  \n",
       "Manhattan                             454126  \n",
       "Queens                                156902  \n",
       "Bronx                                  28334  \n",
       "Staten Island                          11541  "
      ]
     },
     "execution_count": 144,
     "metadata": {},
     "output_type": "execute_result"
    }
   ],
   "source": [
    "# Identifying the average availability for each neighbourhood group (rounded to 2 decimal places)\n",
    "nbhd_group = nyc_df.groupby('neighbourhood_group')['availability_365'].mean().round(2)\n",
    "\n",
    "#Converting the series nbhd to a dataframe\n",
    "nbhd_group = nbhd_group.to_frame()\n",
    "\n",
    "#Renaming columns\n",
    "nbhd_group.rename(columns={'availability_365': 'average_availability'}, inplace=True)\n",
    "\n",
    "# Identifying the average price for each neighbourhood group (rounded to 2 decimal places)\n",
    "nbhd_group['average_price'] = nyc_df.groupby('neighbourhood_group')['price'].mean().round()\n",
    "\n",
    "# Identifying the average number of reviews per listing for each neighbourhood group (rounded to 2 decimal places)\n",
    "nbhd_group['average_number_of_reviews_per_listing'] = nyc_df.groupby('neighbourhood_group')['number_of_reviews'].mean().round()\n",
    "\n",
    "# Identifying the total number of reviews for each neighbourhood group(rounded to 2 decimal places)\n",
    "nbhd_group['total_number_of_reviews'] = nyc_df.groupby('neighbourhood_group')['number_of_reviews'].sum().round(2)\n",
    "\n",
    "nbhd_group.sort_values(by=['average_availability'])"
   ]
  },
  {
   "cell_type": "markdown",
   "metadata": {},
   "source": [
    "On average, \n",
    "- Listings in <b>Staten Island</b> have the greatest availability and receive the most reviews per listing. \n",
    "    - However, Staten Island also receives the least number of reviews overall.\n",
    "- Listings in <b>Manhattan</b> have the least availability and receive the least reviews per listing. \n",
    "    - However, Manhattan receives the second highest number of reviews overall."
   ]
  },
  {
   "cell_type": "markdown",
   "metadata": {},
   "source": [
    "### Duration of Stay"
   ]
  },
  {
   "cell_type": "code",
   "execution_count": 145,
   "metadata": {},
   "outputs": [
    {
     "data": {
      "text/plain": [
       "7.012444226124688"
      ]
     },
     "execution_count": 145,
     "metadata": {},
     "output_type": "execute_result"
    }
   ],
   "source": [
    "nyc_df['minimum_nights'].mean()"
   ]
  },
  {
   "cell_type": "markdown",
   "metadata": {},
   "source": [
    "Average duration of stay for all listings is <b>7 days.</b>"
   ]
  },
  {
   "cell_type": "code",
   "execution_count": 146,
   "metadata": {},
   "outputs": [
    {
     "data": {
      "text/plain": [
       "neighbourhood\n",
       "Breezy Point                   1.000000\n",
       "New Dorp                       1.000000\n",
       "Oakwood                        1.200000\n",
       "East Morrisania                1.400000\n",
       "Woodlawn                       1.454545\n",
       "                                ...    \n",
       "Bay Terrace, Staten Island    16.500000\n",
       "Vinegar Hill                  18.352941\n",
       "Olinville                     23.500000\n",
       "North Riverdale               41.400000\n",
       "Spuyten Duyvil                48.250000\n",
       "Name: minimum_nights, Length: 221, dtype: float64"
      ]
     },
     "execution_count": 146,
     "metadata": {},
     "output_type": "execute_result"
    }
   ],
   "source": [
    "nyc_df.groupby('neighbourhood')['minimum_nights'].mean().sort_values()"
   ]
  },
  {
   "cell_type": "markdown",
   "metadata": {},
   "source": [
    "Listings in the <b>Spuyten Duyvil</b> neighbourhood offer the longest average duration of stay at approximately <b>48 days.</b>"
   ]
  },
  {
   "cell_type": "code",
   "execution_count": 147,
   "metadata": {},
   "outputs": [
    {
     "data": {
      "text/plain": [
       "neighbourhood_group\n",
       "Bronx            4.564738\n",
       "Brooklyn         6.057693\n",
       "Manhattan        8.538188\n",
       "Queens           5.182910\n",
       "Staten Island    4.831099\n",
       "Name: minimum_nights, dtype: float64"
      ]
     },
     "execution_count": 147,
     "metadata": {},
     "output_type": "execute_result"
    }
   ],
   "source": [
    "nyc_df.groupby('neighbourhood_group')['minimum_nights'].mean()"
   ]
  },
  {
   "cell_type": "markdown",
   "metadata": {},
   "source": [
    "Listings in the <b>Manhattan</b> neighbourhood group offer the longest average duration of stay at approximately <b>9 days.</b>"
   ]
  },
  {
   "cell_type": "markdown",
   "metadata": {},
   "source": [
    "## Distance to Major Attractions"
   ]
  },
  {
   "cell_type": "code",
   "execution_count": 148,
   "metadata": {
    "scrolled": false
   },
   "outputs": [
    {
     "data": {
      "text/plain": [
       "3.0813486020713086"
      ]
     },
     "execution_count": 148,
     "metadata": {},
     "output_type": "execute_result"
    }
   ],
   "source": [
    "nyc_df['distance_to_major_attractions'].mean()"
   ]
  },
  {
   "cell_type": "markdown",
   "metadata": {},
   "source": [
    "On average, any given listing is <b>3.1 miles</b> from the closest major attraction."
   ]
  },
  {
   "cell_type": "code",
   "execution_count": 149,
   "metadata": {},
   "outputs": [
    {
     "data": {
      "text/html": [
       "<div>\n",
       "<style scoped>\n",
       "    .dataframe tbody tr th:only-of-type {\n",
       "        vertical-align: middle;\n",
       "    }\n",
       "\n",
       "    .dataframe tbody tr th {\n",
       "        vertical-align: top;\n",
       "    }\n",
       "\n",
       "    .dataframe thead th {\n",
       "        text-align: right;\n",
       "    }\n",
       "</style>\n",
       "<table border=\"1\" class=\"dataframe\">\n",
       "  <thead>\n",
       "    <tr style=\"text-align: right;\">\n",
       "      <th></th>\n",
       "      <th>average_distance_to_major_attractions</th>\n",
       "      <th>average_price</th>\n",
       "      <th>average_number_of_reviews_per_listing</th>\n",
       "      <th>total_number_of_reviews</th>\n",
       "    </tr>\n",
       "    <tr>\n",
       "      <th>neighbourhood_group</th>\n",
       "      <th></th>\n",
       "      <th></th>\n",
       "      <th></th>\n",
       "      <th></th>\n",
       "    </tr>\n",
       "  </thead>\n",
       "  <tbody>\n",
       "    <tr>\n",
       "      <th>Bronx</th>\n",
       "      <td>2.42</td>\n",
       "      <td>87.0</td>\n",
       "      <td>26.0</td>\n",
       "      <td>28334</td>\n",
       "    </tr>\n",
       "    <tr>\n",
       "      <th>Manhattan</th>\n",
       "      <td>2.56</td>\n",
       "      <td>197.0</td>\n",
       "      <td>21.0</td>\n",
       "      <td>454126</td>\n",
       "    </tr>\n",
       "    <tr>\n",
       "      <th>Staten Island</th>\n",
       "      <td>3.12</td>\n",
       "      <td>115.0</td>\n",
       "      <td>31.0</td>\n",
       "      <td>11541</td>\n",
       "    </tr>\n",
       "    <tr>\n",
       "      <th>Brooklyn</th>\n",
       "      <td>3.37</td>\n",
       "      <td>124.0</td>\n",
       "      <td>24.0</td>\n",
       "      <td>486174</td>\n",
       "    </tr>\n",
       "    <tr>\n",
       "      <th>Queens</th>\n",
       "      <td>4.19</td>\n",
       "      <td>100.0</td>\n",
       "      <td>28.0</td>\n",
       "      <td>156902</td>\n",
       "    </tr>\n",
       "  </tbody>\n",
       "</table>\n",
       "</div>"
      ],
      "text/plain": [
       "                     average_distance_to_major_attractions  average_price  \\\n",
       "neighbourhood_group                                                         \n",
       "Bronx                                                 2.42           87.0   \n",
       "Manhattan                                             2.56          197.0   \n",
       "Staten Island                                         3.12          115.0   \n",
       "Brooklyn                                              3.37          124.0   \n",
       "Queens                                                4.19          100.0   \n",
       "\n",
       "                     average_number_of_reviews_per_listing  \\\n",
       "neighbourhood_group                                          \n",
       "Bronx                                                 26.0   \n",
       "Manhattan                                             21.0   \n",
       "Staten Island                                         31.0   \n",
       "Brooklyn                                              24.0   \n",
       "Queens                                                28.0   \n",
       "\n",
       "                     total_number_of_reviews  \n",
       "neighbourhood_group                           \n",
       "Bronx                                  28334  \n",
       "Manhattan                             454126  \n",
       "Staten Island                          11541  \n",
       "Brooklyn                              486174  \n",
       "Queens                                156902  "
      ]
     },
     "execution_count": 149,
     "metadata": {},
     "output_type": "execute_result"
    }
   ],
   "source": [
    "# Identifying the average distance to the closest major attraction for each neighbourhood group (rounded to 2 decimal places)\n",
    "nbhd_group = nyc_df.groupby('neighbourhood_group')['distance_to_major_attractions'].mean().round(2)\n",
    "\n",
    "#Converting the series nbhd to a dataframe\n",
    "nbhd_group = nbhd_group.to_frame()\n",
    "\n",
    "#Renaming columns\n",
    "nbhd_group.rename(columns={'distance_to_major_attractions': 'average_distance_to_major_attractions'}, inplace=True)\n",
    "\n",
    "# Identifying the average price for each neighbourhood group (rounded to 2 decimal places)\n",
    "nbhd_group['average_price'] = nyc_df.groupby('neighbourhood_group')['price'].mean().round()\n",
    "\n",
    "# Identifying the average number of reviews for each neighbourhood group (rounded to 2 decimal places)\n",
    "nbhd_group['average_number_of_reviews_per_listing'] = nyc_df.groupby('neighbourhood_group')['number_of_reviews'].mean().round()\n",
    "\n",
    "# Identifying the total number of reviews per listing for each neighbourhood group(rounded to 2 decimal places)\n",
    "nbhd_group['total_number_of_reviews'] = nyc_df.groupby('neighbourhood_group')['number_of_reviews'].sum().round(2)\n",
    "\n",
    "nbhd_group.sort_values(by=['average_distance_to_major_attractions'])"
   ]
  },
  {
   "cell_type": "markdown",
   "metadata": {},
   "source": [
    "On average, \n",
    "- Listings in the <b>Bronx</b> are the closest a major attraction in the city. \n",
    "    - However, the Bronx also has the second lowest number of listings.\n",
    "- Listings in <b>Queens</b> have the least availability and receive the least reviews per listing. \n",
    "- <b>Manhattan</b> has the greatest number of listings and they are second closest to  a major attraction in the city. "
   ]
  },
  {
   "cell_type": "markdown",
   "metadata": {},
   "source": [
    "## Price"
   ]
  },
  {
   "cell_type": "markdown",
   "metadata": {},
   "source": [
    "### Average Price Across all listings"
   ]
  },
  {
   "cell_type": "code",
   "execution_count": 150,
   "metadata": {
    "scrolled": true
   },
   "outputs": [
    {
     "data": {
      "text/plain": [
       "152.74"
      ]
     },
     "execution_count": 150,
     "metadata": {},
     "output_type": "execute_result"
    }
   ],
   "source": [
    "avg_all_listings = round(nyc_df['price'].mean(),2)\n",
    "avg_all_listings"
   ]
  },
  {
   "cell_type": "markdown",
   "metadata": {},
   "source": [
    "### Price and Reviews Per Month"
   ]
  },
  {
   "cell_type": "code",
   "execution_count": 151,
   "metadata": {},
   "outputs": [
    {
     "data": {
      "text/plain": [
       "Text(0.5, 1.0, 'Reviews per Month vs. Price')"
      ]
     },
     "execution_count": 151,
     "metadata": {},
     "output_type": "execute_result"
    },
    {
     "data": {
      "image/png": "[encoded data removed]",
      "text/plain": [
       "<Figure size 864x288 with 1 Axes>"
      ]
     },
     "metadata": {
      "needs_background": "light"
     },
     "output_type": "display_data"
    }
   ],
   "source": [
    "afig_dims = (12, 4)\n",
    "fig, ax = plt.subplots(figsize=fig_dims)\n",
    "\n",
    "sns.scatterplot(y='reviews_per_month',x='price', data=nyc_df)\n",
    "plt.title(\"Reviews per Month vs. Price\",fontsize=20)"
   ]
  },
  {
   "cell_type": "code",
   "execution_count": 152,
   "metadata": {},
   "outputs": [
    {
     "data": {
      "text/plain": [
       "Text(0.5, 1.0, 'Number of Reviews vs. Price')"
      ]
     },
     "execution_count": 152,
     "metadata": {},
     "output_type": "execute_result"
    },
    {
     "data": {
      "image/png": "[encoded data removed]",
      "text/plain": [
       "<Figure size 864x288 with 1 Axes>"
      ]
     },
     "metadata": {
      "needs_background": "light"
     },
     "output_type": "display_data"
    }
   ],
   "source": [
    "fig_dims = (12, 4)\n",
    "fig, ax = plt.subplots(figsize=fig_dims)\n",
    "\n",
    "sns.scatterplot(y='number_of_reviews',x='price', data=nyc_df)\n",
    "plt.title(\"Number of Reviews vs. Price\",fontsize=20)"
   ]
  },
  {
   "cell_type": "markdown",
   "metadata": {},
   "source": [
    "Based on the plot we can see that the majority of more expensive listings receive fewers reviews as compared to less expensive ones. "
   ]
  },
  {
   "cell_type": "markdown",
   "metadata": {},
   "source": [
    "### Average Price by Neighbourhood"
   ]
  },
  {
   "cell_type": "code",
   "execution_count": 153,
   "metadata": {
    "scrolled": true
   },
   "outputs": [
    {
     "data": {
      "text/html": [
       "<div>\n",
       "<style scoped>\n",
       "    .dataframe tbody tr th:only-of-type {\n",
       "        vertical-align: middle;\n",
       "    }\n",
       "\n",
       "    .dataframe tbody tr th {\n",
       "        vertical-align: top;\n",
       "    }\n",
       "\n",
       "    .dataframe thead th {\n",
       "        text-align: right;\n",
       "    }\n",
       "</style>\n",
       "<table border=\"1\" class=\"dataframe\">\n",
       "  <thead>\n",
       "    <tr style=\"text-align: right;\">\n",
       "      <th></th>\n",
       "      <th>average_price</th>\n",
       "      <th>average_number_of_reviews</th>\n",
       "    </tr>\n",
       "    <tr>\n",
       "      <th>neighbourhood</th>\n",
       "      <th></th>\n",
       "      <th></th>\n",
       "    </tr>\n",
       "  </thead>\n",
       "  <tbody>\n",
       "    <tr>\n",
       "      <th>Allerton</th>\n",
       "      <td>87.60</td>\n",
       "      <td>43.0</td>\n",
       "    </tr>\n",
       "    <tr>\n",
       "      <th>Arden Heights</th>\n",
       "      <td>67.25</td>\n",
       "      <td>8.0</td>\n",
       "    </tr>\n",
       "    <tr>\n",
       "      <th>Arrochar</th>\n",
       "      <td>115.00</td>\n",
       "      <td>15.0</td>\n",
       "    </tr>\n",
       "    <tr>\n",
       "      <th>Arverne</th>\n",
       "      <td>171.78</td>\n",
       "      <td>29.0</td>\n",
       "    </tr>\n",
       "    <tr>\n",
       "      <th>Astoria</th>\n",
       "      <td>117.19</td>\n",
       "      <td>21.0</td>\n",
       "    </tr>\n",
       "  </tbody>\n",
       "</table>\n",
       "</div>"
      ],
      "text/plain": [
       "               average_price  average_number_of_reviews\n",
       "neighbourhood                                          \n",
       "Allerton               87.60                       43.0\n",
       "Arden Heights          67.25                        8.0\n",
       "Arrochar              115.00                       15.0\n",
       "Arverne               171.78                       29.0\n",
       "Astoria               117.19                       21.0"
      ]
     },
     "execution_count": 153,
     "metadata": {},
     "output_type": "execute_result"
    }
   ],
   "source": [
    "# Identifying the average listing price for each neighbourhood (rounded to 2 decimal places)\n",
    "nbhd = nyc_df.groupby('neighbourhood')['price'].mean().round(2)\n",
    "\n",
    "#Converting the series nbhd to a dataframe\n",
    "nbhd = nbhd.to_frame()\n",
    "\n",
    "#Renaming columns\n",
    "nbhd.rename(columns={'price': 'average_price'}, inplace=True)\n",
    "\n",
    "# Identifying the average number of reviews for each neighbourhood (rounded to 2 decimal places)\n",
    "nbhd['average_number_of_reviews'] = nyc_df.groupby('neighbourhood')['number_of_reviews'].mean().round()\n",
    "\n",
    "nbhd.head()"
   ]
  },
  {
   "cell_type": "code",
   "execution_count": 154,
   "metadata": {},
   "outputs": [
    {
     "data": {
      "text/plain": [
       "Text(0.5, 1.0, 'Number of Reviews vs. Price: Aggregated by Neighbourhood')"
      ]
     },
     "execution_count": 154,
     "metadata": {},
     "output_type": "execute_result"
    },
    {
     "data": {
      "image/png": "[encoded data removed]",
      "text/plain": [
       "<Figure size 864x288 with 1 Axes>"
      ]
     },
     "metadata": {
      "needs_background": "light"
     },
     "output_type": "display_data"
    }
   ],
   "source": [
    "fig_dims = (12, 4)\n",
    "fig, ax = plt.subplots(figsize=fig_dims)\n",
    "\n",
    "sns.scatterplot(y='average_number_of_reviews',x='average_price', data=nbhd)\n",
    "plt.title(\"Number of Reviews vs. Price: Aggregated by Neighbourhood\",fontsize=20)"
   ]
  },
  {
   "cell_type": "markdown",
   "metadata": {},
   "source": [
    "We see that once the data is aggregated by neighbourhood averages, there is still a larger number of reviews left for the less expensive listings as compared to the more expensive ones."
   ]
  },
  {
   "cell_type": "markdown",
   "metadata": {},
   "source": [
    "### Neighbourhoods with Listings Above Average Price"
   ]
  },
  {
   "cell_type": "code",
   "execution_count": 155,
   "metadata": {
    "scrolled": true
   },
   "outputs": [
    {
     "data": {
      "text/plain": [
       "average_price                55\n",
       "average_number_of_reviews    55\n",
       "dtype: int64"
      ]
     },
     "execution_count": 155,
     "metadata": {},
     "output_type": "execute_result"
    }
   ],
   "source": [
    "nbhd[nbhd['average_price']>avg_all_listings].count()"
   ]
  },
  {
   "cell_type": "markdown",
   "metadata": {},
   "source": [
    "There are <b>55</b> neighbourhoods with average listing price above the average for all listings."
   ]
  },
  {
   "cell_type": "markdown",
   "metadata": {},
   "source": [
    "### Neighbourhoods with Listings Below Average Price"
   ]
  },
  {
   "cell_type": "code",
   "execution_count": 156,
   "metadata": {},
   "outputs": [
    {
     "data": {
      "text/plain": [
       "average_price                166\n",
       "average_number_of_reviews    166\n",
       "dtype: int64"
      ]
     },
     "execution_count": 156,
     "metadata": {},
     "output_type": "execute_result"
    }
   ],
   "source": [
    "nbhd[nbhd['average_price']<avg_all_listings].count()"
   ]
  },
  {
   "cell_type": "markdown",
   "metadata": {},
   "source": [
    "There are <b>166</b> neighbourhoods with average listing price below the average for all listings."
   ]
  },
  {
   "cell_type": "markdown",
   "metadata": {},
   "source": [
    "### Price in Each Neighbourhood Group"
   ]
  },
  {
   "cell_type": "code",
   "execution_count": 157,
   "metadata": {},
   "outputs": [
    {
     "data": {
      "text/plain": [
       "neighbourhood_group\n",
       "Bronx            106.798933\n",
       "Brooklyn         186.936694\n",
       "Manhattan        291.489822\n",
       "Queens           167.128794\n",
       "Staten Island    277.620403\n",
       "Name: price, dtype: float64"
      ]
     },
     "execution_count": 157,
     "metadata": {},
     "output_type": "execute_result"
    }
   ],
   "source": [
    "nyc_df.groupby('neighbourhood_group')['price'].std()"
   ]
  },
  {
   "cell_type": "markdown",
   "metadata": {},
   "source": [
    "Largest standard deviation in price is in <b>Manhattan</b>."
   ]
  },
  {
   "cell_type": "code",
   "execution_count": 158,
   "metadata": {
    "scrolled": true
   },
   "outputs": [
    {
     "data": {
      "text/plain": [
       "Text(0.5, 1.0, 'Listing Price by Neighbourhood Group')"
      ]
     },
     "execution_count": 158,
     "metadata": {},
     "output_type": "execute_result"
    },
    {
     "data": {
      "image/png": "[encoded data removed]",
      "text/plain": [
       "<Figure size 864x288 with 1 Axes>"
      ]
     },
     "metadata": {
      "needs_background": "light"
     },
     "output_type": "display_data"
    }
   ],
   "source": [
    "fig_dims = (12, 4)\n",
    "fig, ax = plt.subplots(figsize=fig_dims)\n",
    "\n",
    "sns.scatterplot(y='price',x='neighbourhood_group', data=nyc_df)\n",
    "plt.title(\"Listing Price by Neighbourhood Group\",fontsize=20)"
   ]
  },
  {
   "cell_type": "markdown",
   "metadata": {},
   "source": [
    "The spread of prices is greatest in <b>Manhattan.</b>"
   ]
  },
  {
   "cell_type": "markdown",
   "metadata": {},
   "source": [
    "### Average Price, Total Number of Reviews and Number of Listings by Neighbourhood Group"
   ]
  },
  {
   "cell_type": "code",
   "execution_count": 159,
   "metadata": {
    "scrolled": true
   },
   "outputs": [
    {
     "data": {
      "text/html": [
       "<div>\n",
       "<style scoped>\n",
       "    .dataframe tbody tr th:only-of-type {\n",
       "        vertical-align: middle;\n",
       "    }\n",
       "\n",
       "    .dataframe tbody tr th {\n",
       "        vertical-align: top;\n",
       "    }\n",
       "\n",
       "    .dataframe thead th {\n",
       "        text-align: right;\n",
       "    }\n",
       "</style>\n",
       "<table border=\"1\" class=\"dataframe\">\n",
       "  <thead>\n",
       "    <tr style=\"text-align: right;\">\n",
       "      <th></th>\n",
       "      <th>average_price</th>\n",
       "      <th>total_number_of_reviews</th>\n",
       "      <th>number_of_listings</th>\n",
       "      <th>ratio</th>\n",
       "    </tr>\n",
       "    <tr>\n",
       "      <th>neighbourhood_group</th>\n",
       "      <th></th>\n",
       "      <th></th>\n",
       "      <th></th>\n",
       "      <th></th>\n",
       "    </tr>\n",
       "  </thead>\n",
       "  <tbody>\n",
       "    <tr>\n",
       "      <th>Bronx</th>\n",
       "      <td>87.47</td>\n",
       "      <td>28334</td>\n",
       "      <td>1089</td>\n",
       "      <td>26.02</td>\n",
       "    </tr>\n",
       "    <tr>\n",
       "      <th>Brooklyn</th>\n",
       "      <td>124.41</td>\n",
       "      <td>486174</td>\n",
       "      <td>20089</td>\n",
       "      <td>24.20</td>\n",
       "    </tr>\n",
       "    <tr>\n",
       "      <th>Manhattan</th>\n",
       "      <td>196.90</td>\n",
       "      <td>454126</td>\n",
       "      <td>21643</td>\n",
       "      <td>20.98</td>\n",
       "    </tr>\n",
       "    <tr>\n",
       "      <th>Queens</th>\n",
       "      <td>99.54</td>\n",
       "      <td>156902</td>\n",
       "      <td>5664</td>\n",
       "      <td>27.70</td>\n",
       "    </tr>\n",
       "    <tr>\n",
       "      <th>Staten Island</th>\n",
       "      <td>114.81</td>\n",
       "      <td>11541</td>\n",
       "      <td>373</td>\n",
       "      <td>30.94</td>\n",
       "    </tr>\n",
       "  </tbody>\n",
       "</table>\n",
       "</div>"
      ],
      "text/plain": [
       "                     average_price  total_number_of_reviews  \\\n",
       "neighbourhood_group                                           \n",
       "Bronx                        87.47                    28334   \n",
       "Brooklyn                    124.41                   486174   \n",
       "Manhattan                   196.90                   454126   \n",
       "Queens                       99.54                   156902   \n",
       "Staten Island               114.81                    11541   \n",
       "\n",
       "                     number_of_listings  ratio  \n",
       "neighbourhood_group                             \n",
       "Bronx                              1089  26.02  \n",
       "Brooklyn                          20089  24.20  \n",
       "Manhattan                         21643  20.98  \n",
       "Queens                             5664  27.70  \n",
       "Staten Island                       373  30.94  "
      ]
     },
     "execution_count": 159,
     "metadata": {},
     "output_type": "execute_result"
    }
   ],
   "source": [
    "# Identifying the average listing price for each neighbourhood (rounded to 2 decimal places)\n",
    "nbhd_group = nyc_df.groupby('neighbourhood_group')['price'].mean().round(2)\n",
    "\n",
    "#Converting the series nbhd to a dataframe\n",
    "nbhd_group = nbhd_group.to_frame()\n",
    "\n",
    "#Renaming columns\n",
    "nbhd_group.rename(columns={'price': 'average_price'}, inplace=True)\n",
    "\n",
    "# Identifying the average number of reviews for each neighbourhood group(rounded to 2 decimal places)\n",
    "nbhd_group['total_number_of_reviews'] = nyc_df.groupby('neighbourhood_group')['number_of_reviews'].sum().round(2)\n",
    "\n",
    "nbhd_group['number_of_listings'] = nyc_df['neighbourhood_group'].value_counts()\n",
    "\n",
    "#Ratio of reviews as compared to total number of listings for each neighbourhood group\n",
    "nbhd_group['ratio'] = (nbhd_group['total_number_of_reviews']/nbhd_group['number_of_listings']).round(2)\n",
    "\n",
    "\n",
    "nbhd_group.head()"
   ]
  },
  {
   "cell_type": "markdown",
   "metadata": {},
   "source": [
    "We notice something interesting in the data here:\n",
    "\n",
    "- Staten island has the largest number of reviews as compared to the actual number of listings, which indicates that reviews were left more frequently for stays in listings that were within the Staten island neighbourhood group.\n",
    "- Manhattan has the second largest number of listings but has the least number of reviews compared to the actual number of listings, which indicates that reviews are left less frequently for stays in the Manhattan neighbourhood group. The possible reasons for this are as follows:\n",
    "\n",
    "    - The average listing price is also the highest of all neighbourhood groups.\n",
    "    - Manhattan's average listing price is also above the average for all listings.\n"
   ]
  },
  {
   "cell_type": "markdown",
   "metadata": {},
   "source": [
    "### Average Price by Room Type"
   ]
  },
  {
   "cell_type": "code",
   "execution_count": 160,
   "metadata": {
    "scrolled": true
   },
   "outputs": [
    {
     "data": {
      "text/html": [
       "<div>\n",
       "<style scoped>\n",
       "    .dataframe tbody tr th:only-of-type {\n",
       "        vertical-align: middle;\n",
       "    }\n",
       "\n",
       "    .dataframe tbody tr th {\n",
       "        vertical-align: top;\n",
       "    }\n",
       "\n",
       "    .dataframe thead th {\n",
       "        text-align: right;\n",
       "    }\n",
       "</style>\n",
       "<table border=\"1\" class=\"dataframe\">\n",
       "  <thead>\n",
       "    <tr style=\"text-align: right;\">\n",
       "      <th></th>\n",
       "      <th>average_price</th>\n",
       "      <th>total_number_of_reviews</th>\n",
       "    </tr>\n",
       "    <tr>\n",
       "      <th>room_type</th>\n",
       "      <th></th>\n",
       "      <th></th>\n",
       "    </tr>\n",
       "  </thead>\n",
       "  <tbody>\n",
       "    <tr>\n",
       "      <th>Entire home/apt</th>\n",
       "      <td>211.81</td>\n",
       "      <td>579856</td>\n",
       "    </tr>\n",
       "    <tr>\n",
       "      <th>Private room</th>\n",
       "      <td>89.79</td>\n",
       "      <td>537965</td>\n",
       "    </tr>\n",
       "    <tr>\n",
       "      <th>Shared room</th>\n",
       "      <td>70.08</td>\n",
       "      <td>19256</td>\n",
       "    </tr>\n",
       "  </tbody>\n",
       "</table>\n",
       "</div>"
      ],
      "text/plain": [
       "                 average_price  total_number_of_reviews\n",
       "room_type                                              \n",
       "Entire home/apt         211.81                   579856\n",
       "Private room             89.79                   537965\n",
       "Shared room              70.08                    19256"
      ]
     },
     "execution_count": 160,
     "metadata": {},
     "output_type": "execute_result"
    }
   ],
   "source": [
    "room_type = nyc_df.groupby('room_type')['price'].mean().round(2)\n",
    "\n",
    "#Converting the series nbhd to a dataframe\n",
    "room_type = room_type.to_frame()\n",
    "\n",
    "#Renaming columns\n",
    "room_type.rename(columns={'price': 'average_price'}, inplace=True)\n",
    "\n",
    "# Identifying the average number of reviews for each neighbourhood (rounded to 2 decimal places)\n",
    "room_type['total_number_of_reviews'] = nyc_df.groupby('room_type')['number_of_reviews'].sum().round()\n",
    "\n",
    "room_type"
   ]
  },
  {
   "cell_type": "markdown",
   "metadata": {},
   "source": [
    "As expected, listings with Entire home/apt are the most expensive."
   ]
  },
  {
   "cell_type": "markdown",
   "metadata": {},
   "source": [
    "### Number of Reviews vs. Price for Each Room Type"
   ]
  },
  {
   "cell_type": "code",
   "execution_count": 161,
   "metadata": {
    "scrolled": true
   },
   "outputs": [
    {
     "data": {
      "text/plain": [
       "Text(0.5, 0.98, 'Number of Reviews vs. Price for Each Room Type')"
      ]
     },
     "execution_count": 161,
     "metadata": {},
     "output_type": "execute_result"
    },
    {
     "data": {
      "image/png": "[encoded data removed]",
      "text/plain": [
       "<Figure size 648x216 with 3 Axes>"
      ]
     },
     "metadata": {
      "needs_background": "light"
     },
     "output_type": "display_data"
    }
   ],
   "source": [
    "# Form a facetgrid using columns with a hue\n",
    "graph = sns.FacetGrid(nyc_df, col ='room_type')\n",
    "\n",
    "# map the above form facetgrid with some attributes\n",
    "graph.map(sns.scatterplot, \"price\",\"number_of_reviews\")\n",
    "\n",
    "#Setting the title for the FacetGrid \n",
    "graph.fig.subplots_adjust(top=0.8)\n",
    "graph.fig.suptitle('Number of Reviews vs. Price for Each Room Type', fontsize=20)"
   ]
  },
  {
   "cell_type": "markdown",
   "metadata": {},
   "source": [
    "There are more reviews for less expensive listings regardless of the room types."
   ]
  },
  {
   "cell_type": "markdown",
   "metadata": {},
   "source": [
    "# Summary of Data\n",
    "\n",
    "#### Availability\n",
    "- There are 48858 listings in total.\n",
    "- The majority of the listings are Entire home/apts or Private rooms.\n",
    "\n",
    "- On average, any given listing is available <b>113 days</b> in a year.\n",
    "    - Listings in <b>Staten Island</b> have the greatest availability and receive the most reviews per listing. \n",
    "    - However, Staten Island also receives the least number of reviews overall.\n",
    "    - Listings in <b>Manhattan</b> have the least availability and receive the least reviews per listing. \n",
    "    - However, Manhattan receives the second highest number of reviews overall.\n",
    "    \n",
    "- Average duration of stay for all listings is 7 days.\n",
    "    - Listings in the <b>Spuyten Duyvil</b> neighbourhood offer the longest average duration of stay at approximately <b>48 days.</b>\n",
    "    - Listings in the <b>Manhattan</b> neighbourhood group offer the longest average duration of stay at approximately <b>9 days.</b>\n",
    "\n",
    "#### Location\n",
    " \n",
    "- There are <b>221</b> neighbourhoods with <b>Williamsburg</b> having the most listings (3917). \n",
    "- The top 10 neighbourhoods represent about <b>47.95%</b> of all listings.\n",
    "- There are <b>5</b> neighbourhood groups with <b>Manhattan</b> having the most listings (21643). \n",
    "\n",
    "- On average, any given listing is <b>3.1 miles</b> from the closest major attraction.\n",
    "    - Listings in the <b>Bronx</b> are the closest a major attraction in the city. \n",
    "    - However, the Bronx also has the second lowest number of listings.\n",
    "    - Listings in <b>Queens</b> have the least availability and receive the least reviews per listing. \n",
    "    - <b>Manhattan</b> has the greatest number of listings and they are second closest to  a major attraction in the city. \n",
    "\n",
    "#### Price \n",
    "\n",
    "- Average Price Across all listings: 152.74\n",
    "- There are <b>55</b> neighbourhoods with average listing price above the average for all listings.\n",
    "- There are <b>166</b> neighbourhoods with average listing price below the average for all listings.\n",
    "- Largest standard deviation in price is in <b>Manhattan</b>.\n",
    "- The spread of prices is greatest in <b>Manhattan.</b>\n",
    "- As expected, listings with Entire home/apt are the most expensive.\n",
    "\n",
    "#### Number of Reviews\n",
    "\n",
    "- Across all categories (Room Type, Neighbourhood etc.), less expensive Listings receive more reviews. \n",
    "- The majority of reviews are left in the month of <b>June</b> which indicates that the majority of customers used a rental in June. Meanwhile, the least reviews are left in <b>February</b>, which indicates that the  fewest customers used a rental in February.\n",
    "- Staten Island has the largest number of reviews as compared to the actual number of listings, which indicates that reviews were left more frequently for stays in listings that were within the Staten island neighbourhood group.\n",
    "- Manhattan has the second largest number of listings but has the least number of reviews compared to the actual number of listings, which indicates that reviews are left less frequently for stays in the Manhattan neighbourhood group. The possible reasons for this are as follows:\n",
    "\n",
    "    - The average listing price is also the highest of all neighbourhood groups.\n",
    "    - Manhattan's average listing price is also above the average for all listings."
   ]
  },
  {
   "cell_type": "markdown",
   "metadata": {},
   "source": [
    "<b>Additional Data necessary</b><br>\n",
    "The data only tells us if a review was left or not for any given listing. It would be beneficial to know what score each listing received when they were reviewed. We can only go off the number of reviews listings receive and assume listings (and by extension neighbourhoods and neighbourhood groups) with more reviews are preferable."
   ]
  },
  {
   "cell_type": "markdown",
   "metadata": {},
   "source": [
    "# Exporting the data"
   ]
  },
  {
   "cell_type": "code",
   "execution_count": 163,
   "metadata": {},
   "outputs": [],
   "source": [
    "#Exporting the dataset (without the index values)\n",
    "#nyc_df.to_csv('Airbnb.csv', index=False)"
   ]
  }
 ],
 "metadata": {
  "kernelspec": {
   "display_name": "Python 3",
   "language": "python",
   "name": "python3"
  },
  "language_info": {
   "codemirror_mode": {
    "name": "ipython",
    "version": 3
   },
   "file_extension": ".py",
   "mimetype": "text/x-python",
   "name": "python",
   "nbconvert_exporter": "python",
   "pygments_lexer": "ipython3",
   "version": "3.8.5"
  }
 },
 "nbformat": 4,
 "nbformat_minor": 4
}
